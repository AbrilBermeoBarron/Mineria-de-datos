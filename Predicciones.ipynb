{
  "cells": [
    {
      "cell_type": "code",
      "execution_count": null,
      "metadata": {
        "colab": {
          "base_uri": "https://localhost:8080/",
          "height": 17
        },
        "id": "9uHaz_h0-jYq",
        "outputId": "fb331557-90a0-4e89-8e04-71fe994906db"
      },
      "outputs": [
        {
          "output_type": "display_data",
          "data": {
            "text/html": [
              "        <script type=\"text/javascript\">\n",
              "        window.PlotlyConfig = {MathJaxConfig: 'local'};\n",
              "        if (window.MathJax && window.MathJax.Hub && window.MathJax.Hub.Config) {window.MathJax.Hub.Config({SVG: {font: \"STIX-Web\"}});}\n",
              "        if (typeof require !== 'undefined') {\n",
              "        require.undef(\"plotly\");\n",
              "        requirejs.config({\n",
              "            paths: {\n",
              "                'plotly': ['https://cdn.plot.ly/plotly-2.24.1.min']\n",
              "            }\n",
              "        });\n",
              "        require(['plotly'], function(Plotly) {\n",
              "            window._Plotly = Plotly;\n",
              "        });\n",
              "        }\n",
              "        </script>\n",
              "        "
            ]
          },
          "metadata": {}
        }
      ],
      "source": [
        "# Data Wrangling\n",
        "import numpy as np\n",
        "import pandas as pd\n",
        "\n",
        "# Data Viz\n",
        "import cufflinks as cf\n",
        "\n",
        "# Data preprocessing\n",
        "from sklearn.impute import SimpleImputer\n",
        "from sklearn.feature_extraction.text import CountVectorizer\n",
        "from sklearn.feature_selection import SelectKBest, f_regression\n",
        "\n",
        "# Modeling\n",
        "from sklearn.linear_model import LinearRegression\n",
        "from sklearn.model_selection import cross_val_score, train_test_split\n",
        "\n",
        "# Model performance\n",
        "from sklearn.metrics import r2_score, mean_absolute_error, mean_absolute_percentage_error\n",
        "\n",
        "# Enviroment setup\n",
        "cf.go_offline()\n",
        "pd.set_option(\"display.max_columns\", 50)\n",
        "pd.set_option('display.float_format', lambda x: '%.4f' % x)"
      ]
    },
    {
      "cell_type": "code",
      "source": [
        "from google.colab import drive\n",
        "drive.mount('/content/drive')"
      ],
      "metadata": {
        "colab": {
          "base_uri": "https://localhost:8080/"
        },
        "id": "D0xpOV4Ofu1j",
        "outputId": "03ad19b0-164e-401e-c1c3-28ba885b3a4a"
      },
      "execution_count": null,
      "outputs": [
        {
          "output_type": "stream",
          "name": "stdout",
          "text": [
            "Drive already mounted at /content/drive; to attempt to forcibly remount, call drive.mount(\"/content/drive\", force_remount=True).\n"
          ]
        }
      ]
    },
    {
      "cell_type": "code",
      "execution_count": null,
      "metadata": {
        "colab": {
          "base_uri": "https://localhost:8080/"
        },
        "id": "FdujQ4KJnnY-",
        "outputId": "658c79e9-cc06-4377-bbf7-1276d30a2ed1"
      },
      "outputs": [
        {
          "output_type": "stream",
          "name": "stdout",
          "text": [
            "             pickup_datetime  pickup_longitude  pickup_latitude  \\\n",
            "0  2009-01-01 01:15:22+00:00          -73.9819          40.7795   \n",
            "1  2009-01-01 01:59:17+00:00          -73.9838          40.7214   \n",
            "2  2009-01-01 02:05:03+00:00          -73.9566          40.7713   \n",
            "3  2009-01-01 02:09:13+00:00          -73.9846          40.7280   \n",
            "4  2009-01-01 02:13:41+00:00          -73.9801          40.7374   \n",
            "\n",
            "   dropoff_longitude  dropoff_latitude  product_count      region  \\\n",
            "0           -73.9577           40.7710              2  Commercial   \n",
            "1           -73.9948           40.6872              2   Residence   \n",
            "2           -73.9915           40.7498              2      Others   \n",
            "3           -73.9557           40.7768              1      Others   \n",
            "4           -74.0095           40.7260              4   Residence   \n",
            "\n",
            "   delivery_fee  \n",
            "0        8.5000  \n",
            "1       13.0000  \n",
            "2       10.6000  \n",
            "3       12.2000  \n",
            "4       11.0000  \n",
            "<class 'pandas.core.frame.DataFrame'>\n",
            "RangeIndex: 198959 entries, 0 to 198958\n",
            "Data columns (total 8 columns):\n",
            " #   Column             Non-Null Count   Dtype  \n",
            "---  ------             --------------   -----  \n",
            " 0   pickup_datetime    198959 non-null  object \n",
            " 1   pickup_longitude   198959 non-null  float64\n",
            " 2   pickup_latitude    198959 non-null  float64\n",
            " 3   dropoff_longitude  198958 non-null  float64\n",
            " 4   dropoff_latitude   198958 non-null  float64\n",
            " 5   product_count      198959 non-null  int64  \n",
            " 6   region             198959 non-null  object \n",
            " 7   delivery_fee       198959 non-null  float64\n",
            "dtypes: float64(5), int64(1), object(2)\n",
            "memory usage: 12.1+ MB\n",
            "None\n",
            "       pickup_longitude  pickup_latitude  dropoff_longitude  dropoff_latitude  \\\n",
            "count       198959.0000      198959.0000        198958.0000       198958.0000   \n",
            "mean           -72.5260          39.9349           -72.5233           39.9226   \n",
            "std             11.4487           7.7322            13.1362            6.8035   \n",
            "min          -1340.6484         -74.0155         -3356.6663         -881.9855   \n",
            "25%            -73.9921          40.7348           -73.9914           40.7338   \n",
            "50%            -73.9818          40.7526           -73.9801           40.7530   \n",
            "75%            -73.9672          40.7671           -73.9637           40.7680   \n",
            "max             57.4185        1644.4215          1153.5726          872.6976   \n",
            "\n",
            "       product_count  delivery_fee  \n",
            "count    198959.0000   198959.0000  \n",
            "mean          1.6843       11.3487  \n",
            "std           1.3860        9.8906  \n",
            "min           0.0000      -52.0000  \n",
            "25%           1.0000        6.0000  \n",
            "50%           1.0000        8.5000  \n",
            "75%           2.0000       12.5000  \n",
            "max         208.0000      499.0000  \n"
          ]
        }
      ],
      "source": [
        "# Lectura de los datos están en un archivo CSV llamado ''\n",
        "df = pd.read_csv('/content/drive/MyDrive/Temas/train_deliveries.csv')\n",
        "\n",
        "# Exploración inicial\n",
        "print(df.head())\n",
        "print(df.info())\n",
        "print(df.describe())"
      ]
    },
    {
      "cell_type": "code",
      "execution_count": null,
      "metadata": {
        "colab": {
          "base_uri": "https://localhost:8080/"
        },
        "id": "3_O0GRTxvcDc",
        "outputId": "3c0bce05-80ae-4b8a-ec23-4220c4238e70"
      },
      "outputs": [
        {
          "output_type": "stream",
          "name": "stdout",
          "text": [
            "pickup_datetime      0\n",
            "pickup_longitude     0\n",
            "pickup_latitude      0\n",
            "dropoff_longitude    1\n",
            "dropoff_latitude     1\n",
            "product_count        0\n",
            "region               0\n",
            "delivery_fee         0\n",
            "dtype: int64\n"
          ]
        }
      ],
      "source": [
        "#Limpieza de datos\n",
        "\n",
        "# Verificar valores faltantes\n",
        "missing_values = df.isnull().sum()\n",
        "print(missing_values)\n",
        "\n",
        "# Opcional: rellenar o eliminar valores faltantes\n",
        "df = df.dropna()  # Eliminamos filas con valores faltantes\n"
      ]
    },
    {
      "cell_type": "code",
      "execution_count": null,
      "metadata": {
        "colab": {
          "base_uri": "https://localhost:8080/"
        },
        "id": "Dt0VYW7jvpPd",
        "outputId": "2d1899db-bbf5-46e4-f078-f4ddf3877998"
      },
      "outputs": [
        {
          "output_type": "stream",
          "name": "stdout",
          "text": [
            "Number of duplicates: 0\n"
          ]
        }
      ],
      "source": [
        "# Verificar duplicados\n",
        "duplicates = df.duplicated().sum()\n",
        "print(f'Number of duplicates: {duplicates}')\n",
        "\n",
        "# Eliminar duplicados\n",
        "df = df.drop_duplicates()\n",
        "\n"
      ]
    },
    {
      "cell_type": "code",
      "execution_count": null,
      "metadata": {
        "id": "YAiOt6RdvwIt"
      },
      "outputs": [],
      "source": [
        "#Transformacion de datos\n",
        "df['pickup_datetime'] = pd.to_datetime(df['pickup_datetime'])"
      ]
    },
    {
      "cell_type": "code",
      "execution_count": null,
      "metadata": {
        "id": "lrPZg3T9v120"
      },
      "outputs": [],
      "source": [
        "#Crear Nuevas Columnas para el Análisis de Series Temporales\n",
        "df['year'] = df['pickup_datetime'].dt.year\n",
        "df['month'] = df['pickup_datetime'].dt.month\n",
        "df['day'] = df['pickup_datetime'].dt.day\n",
        "df['hour'] = df['pickup_datetime'].dt.hour\n",
        "df['weekday'] = df['pickup_datetime'].dt.weekday\n"
      ]
    },
    {
      "cell_type": "markdown",
      "metadata": {
        "id": "CHZHY9AKwcqU"
      },
      "source": [
        "Analisis Descriptivo"
      ]
    },
    {
      "cell_type": "code",
      "execution_count": null,
      "metadata": {
        "id": "8NeUPvUOwcY-"
      },
      "outputs": [],
      "source": [
        "#codificar Variables Categóricas\n",
        "df = pd.get_dummies(df, columns=['region'])\n"
      ]
    },
    {
      "cell_type": "code",
      "execution_count": null,
      "metadata": {
        "colab": {
          "base_uri": "https://localhost:8080/",
          "height": 472
        },
        "id": "2eEfQc6hwnVP",
        "outputId": "e31ae344-4e1b-433f-f907-fd66ee6514c7"
      },
      "outputs": [
        {
          "output_type": "display_data",
          "data": {
            "text/plain": [
              "<Figure size 640x480 with 1 Axes>"
            ],
            "image/png": "[encoded data removed]"
          },
          "metadata": {}
        }
      ],
      "source": [
        "#Visualizar la distribución de las tarifas de entrega.\n",
        "import matplotlib.pyplot as plt\n",
        "\n",
        "plt.hist(df['delivery_fee'], bins=20)\n",
        "plt.title('Distribución de Delivery Fee')\n",
        "plt.xlabel('Delivery Fee')\n",
        "plt.ylabel('Frecuencia')\n",
        "plt.show()\n"
      ]
    },
    {
      "cell_type": "code",
      "execution_count": null,
      "metadata": {
        "colab": {
          "base_uri": "https://localhost:8080/"
        },
        "id": "6uuDz4CUwsF2",
        "outputId": "333816f8-afe5-4095-b2de-bd77eae2a6de"
      },
      "outputs": [
        {
          "output_type": "stream",
          "name": "stdout",
          "text": [
            "   pickup_longitude  pickup_latitude  dropoff_longitude  dropoff_latitude  \\\n",
            "0          -73.9819          40.7795           -73.9577           40.7710   \n",
            "1          -73.9838          40.7214           -73.9948           40.6872   \n",
            "2          -73.9566          40.7713           -73.9915           40.7498   \n",
            "3          -73.9846          40.7280           -73.9557           40.7768   \n",
            "4          -73.9801          40.7374           -74.0095           40.7260   \n",
            "\n",
            "   product_count  year  month  day  hour  weekday  region_Commercial  \\\n",
            "0              2  2009      1    1     1        3               True   \n",
            "1              2  2009      1    1     1        3              False   \n",
            "2              2  2009      1    1     2        3              False   \n",
            "3              1  2009      1    1     2        3              False   \n",
            "4              4  2009      1    1     2        3              False   \n",
            "\n",
            "   region_Manufacturing  region_Others  region_Residence  delivery_fee  \n",
            "0                 False          False             False        8.5000  \n",
            "1                 False          False              True       13.0000  \n",
            "2                 False           True             False       10.6000  \n",
            "3                 False           True             False       12.2000  \n",
            "4                 False          False              True       11.0000  \n"
          ]
        }
      ],
      "source": [
        "#Tabla Analítica para Predicción de delivery_fee\n",
        "# Selección de características\n",
        "features = ['pickup_longitude', 'pickup_latitude', 'dropoff_longitude', 'dropoff_latitude', 'product_count', 'year', 'month', 'day', 'hour', 'weekday'] + list(df.columns[df.columns.str.startswith('region_')])\n",
        "target = 'delivery_fee'\n",
        "\n",
        "# Creación de la tabla analítica\n",
        "analytical_table = df[features + [target]]\n",
        "\n",
        "print(analytical_table.head())\n"
      ]
    },
    {
      "cell_type": "code",
      "execution_count": null,
      "metadata": {
        "colab": {
          "base_uri": "https://localhost:8080/"
        },
        "id": "X89QAs0NwxvX",
        "outputId": "7ede3da0-ac24-4cab-fefd-1cda5a8e3378"
      },
      "outputs": [
        {
          "output_type": "stream",
          "name": "stdout",
          "text": [
            "   pickup_longitude  pickup_latitude  dropoff_longitude  dropoff_latitude  \\\n",
            "0          -73.9819          40.7795           -73.9577           40.7710   \n",
            "1          -73.9838          40.7214           -73.9948           40.6872   \n",
            "2          -73.9566          40.7713           -73.9915           40.7498   \n",
            "3          -73.9846          40.7280           -73.9557           40.7768   \n",
            "4          -73.9801          40.7374           -74.0095           40.7260   \n",
            "\n",
            "   year  month  day  hour  weekday  region_Commercial  region_Manufacturing  \\\n",
            "0  2009      1    1     1        3               True                 False   \n",
            "1  2009      1    1     1        3              False                 False   \n",
            "2  2009      1    1     2        3              False                 False   \n",
            "3  2009      1    1     2        3              False                 False   \n",
            "4  2009      1    1     2        3              False                 False   \n",
            "\n",
            "   region_Others  region_Residence  product_count  \n",
            "0          False             False              2  \n",
            "1          False              True              2  \n",
            "2           True             False              2  \n",
            "3           True             False              1  \n",
            "4          False              True              4  \n"
          ]
        }
      ],
      "source": [
        "#Tabla Analítica para Predicción de product_count\n",
        "\n",
        "# Selección de características (pueden ser las mismas o diferentes)\n",
        "features_for_product_count = ['pickup_longitude', 'pickup_latitude', 'dropoff_longitude', 'dropoff_latitude', 'year', 'month', 'day', 'hour', 'weekday'] + list(df.columns[df.columns.str.startswith('region_')])\n",
        "target_for_product_count = 'product_count'\n",
        "\n",
        "# Creación de la tabla analítica\n",
        "analytical_table_product_count = df[features_for_product_count + [target_for_product_count]]\n",
        "\n",
        "print(analytical_table_product_count.head())\n"
      ]
    },
    {
      "cell_type": "code",
      "source": [
        "# Carga de datos\n",
        "df = pd.read_csv('/content/drive/MyDrive/Temas/train_deliveries.csv')\n",
        "\n",
        "# Exploración inicial\n",
        "print(df.head())\n",
        "print(df.info())\n",
        "print(df.describe())\n",
        "\n",
        "# Limpieza de datos\n",
        "df = df.dropna()\n",
        "df = df.drop_duplicates()\n",
        "\n",
        "# Transformación de datos\n",
        "df['pickup_datetime'] = pd.to_datetime(df['pickup_datetime'])\n",
        "df['year'] = df['pickup_datetime'].dt.year\n",
        "df['month'] = df['pickup_datetime'].dt.month\n",
        "df['day'] = df['pickup_datetime'].dt.day\n",
        "df['hour'] = df['pickup_datetime'].dt.hour\n",
        "df['weekday'] = df['pickup_datetime'].dt.weekday\n",
        "\n",
        "# Codificación de variables categóricas\n",
        "df = pd.get_dummies(df, columns=['region'])\n",
        "\n",
        "# Generación de tabla analítica para predicción de delivery_fee\n",
        "features = ['pickup_longitude', 'pickup_latitude', 'dropoff_longitude', 'dropoff_latitude', 'product_count', 'year', 'month', 'day', 'hour', 'weekday'] + list(df.columns[df.columns.str.startswith('region_')])\n",
        "target = 'delivery_fee'\n",
        "analytical_table = df[features + [target]]\n",
        "print(analytical_table.head())\n",
        "\n",
        "# Generación de tabla analítica para predicción de product_count\n",
        "features_for_product_count = ['pickup_longitude', 'pickup_latitude', 'dropoff_longitude', 'dropoff_latitude', 'year', 'month', 'day', 'hour', 'weekday'] + list(df.columns[df.columns.str.startswith('region_')])\n",
        "target_for_product_count = 'product_count'\n",
        "analytical_table_product_count = df[features_for_product_count + [target_for_product_count]]\n",
        "print(analytical_table_product_count.head())\n",
        "\n"
      ],
      "metadata": {
        "colab": {
          "base_uri": "https://localhost:8080/"
        },
        "id": "oVV7g3ET6mKy",
        "outputId": "3408489d-0e2a-4ea8-dd15-8f3d4d8866ce"
      },
      "execution_count": null,
      "outputs": [
        {
          "output_type": "stream",
          "name": "stdout",
          "text": [
            "             pickup_datetime  pickup_longitude  pickup_latitude  \\\n",
            "0  2009-01-01 01:15:22+00:00          -73.9819          40.7795   \n",
            "1  2009-01-01 01:59:17+00:00          -73.9838          40.7214   \n",
            "2  2009-01-01 02:05:03+00:00          -73.9566          40.7713   \n",
            "3  2009-01-01 02:09:13+00:00          -73.9846          40.7280   \n",
            "4  2009-01-01 02:13:41+00:00          -73.9801          40.7374   \n",
            "\n",
            "   dropoff_longitude  dropoff_latitude  product_count      region  \\\n",
            "0           -73.9577           40.7710              2  Commercial   \n",
            "1           -73.9948           40.6872              2   Residence   \n",
            "2           -73.9915           40.7498              2      Others   \n",
            "3           -73.9557           40.7768              1      Others   \n",
            "4           -74.0095           40.7260              4   Residence   \n",
            "\n",
            "   delivery_fee  \n",
            "0        8.5000  \n",
            "1       13.0000  \n",
            "2       10.6000  \n",
            "3       12.2000  \n",
            "4       11.0000  \n",
            "<class 'pandas.core.frame.DataFrame'>\n",
            "RangeIndex: 198959 entries, 0 to 198958\n",
            "Data columns (total 8 columns):\n",
            " #   Column             Non-Null Count   Dtype  \n",
            "---  ------             --------------   -----  \n",
            " 0   pickup_datetime    198959 non-null  object \n",
            " 1   pickup_longitude   198959 non-null  float64\n",
            " 2   pickup_latitude    198959 non-null  float64\n",
            " 3   dropoff_longitude  198958 non-null  float64\n",
            " 4   dropoff_latitude   198958 non-null  float64\n",
            " 5   product_count      198959 non-null  int64  \n",
            " 6   region             198959 non-null  object \n",
            " 7   delivery_fee       198959 non-null  float64\n",
            "dtypes: float64(5), int64(1), object(2)\n",
            "memory usage: 12.1+ MB\n",
            "None\n",
            "       pickup_longitude  pickup_latitude  dropoff_longitude  dropoff_latitude  \\\n",
            "count       198959.0000      198959.0000        198958.0000       198958.0000   \n",
            "mean           -72.5260          39.9349           -72.5233           39.9226   \n",
            "std             11.4487           7.7322            13.1362            6.8035   \n",
            "min          -1340.6484         -74.0155         -3356.6663         -881.9855   \n",
            "25%            -73.9921          40.7348           -73.9914           40.7338   \n",
            "50%            -73.9818          40.7526           -73.9801           40.7530   \n",
            "75%            -73.9672          40.7671           -73.9637           40.7680   \n",
            "max             57.4185        1644.4215          1153.5726          872.6976   \n",
            "\n",
            "       product_count  delivery_fee  \n",
            "count    198959.0000   198959.0000  \n",
            "mean          1.6843       11.3487  \n",
            "std           1.3860        9.8906  \n",
            "min           0.0000      -52.0000  \n",
            "25%           1.0000        6.0000  \n",
            "50%           1.0000        8.5000  \n",
            "75%           2.0000       12.5000  \n",
            "max         208.0000      499.0000  \n",
            "   pickup_longitude  pickup_latitude  dropoff_longitude  dropoff_latitude  \\\n",
            "0          -73.9819          40.7795           -73.9577           40.7710   \n",
            "1          -73.9838          40.7214           -73.9948           40.6872   \n",
            "2          -73.9566          40.7713           -73.9915           40.7498   \n",
            "3          -73.9846          40.7280           -73.9557           40.7768   \n",
            "4          -73.9801          40.7374           -74.0095           40.7260   \n",
            "\n",
            "   product_count  year  month  day  hour  weekday  region_Commercial  \\\n",
            "0              2  2009      1    1     1        3               True   \n",
            "1              2  2009      1    1     1        3              False   \n",
            "2              2  2009      1    1     2        3              False   \n",
            "3              1  2009      1    1     2        3              False   \n",
            "4              4  2009      1    1     2        3              False   \n",
            "\n",
            "   region_Manufacturing  region_Others  region_Residence  delivery_fee  \n",
            "0                 False          False             False        8.5000  \n",
            "1                 False          False              True       13.0000  \n",
            "2                 False           True             False       10.6000  \n",
            "3                 False           True             False       12.2000  \n",
            "4                 False          False              True       11.0000  \n",
            "   pickup_longitude  pickup_latitude  dropoff_longitude  dropoff_latitude  \\\n",
            "0          -73.9819          40.7795           -73.9577           40.7710   \n",
            "1          -73.9838          40.7214           -73.9948           40.6872   \n",
            "2          -73.9566          40.7713           -73.9915           40.7498   \n",
            "3          -73.9846          40.7280           -73.9557           40.7768   \n",
            "4          -73.9801          40.7374           -74.0095           40.7260   \n",
            "\n",
            "   year  month  day  hour  weekday  region_Commercial  region_Manufacturing  \\\n",
            "0  2009      1    1     1        3               True                 False   \n",
            "1  2009      1    1     1        3              False                 False   \n",
            "2  2009      1    1     2        3              False                 False   \n",
            "3  2009      1    1     2        3              False                 False   \n",
            "4  2009      1    1     2        3              False                 False   \n",
            "\n",
            "   region_Others  region_Residence  product_count  \n",
            "0          False             False              2  \n",
            "1          False              True              2  \n",
            "2           True             False              2  \n",
            "3           True             False              1  \n",
            "4          False              True              4  \n"
          ]
        }
      ]
    },
    {
      "cell_type": "code",
      "source": [
        "df['year'] = df['pickup_datetime'].dt.year\n",
        "df['month'] = df['pickup_datetime'].dt.month\n",
        "\n",
        "deliveries_per_month = df.groupby(['year', 'month']).size()\n",
        "deliveries_per_month.plot(kind='bar')\n",
        "plt.title('Número de Entregas por Mes')\n",
        "plt.xlabel('Año, Mes')\n",
        "plt.ylabel('Número de Entregas')\n",
        "plt.show()\n"
      ],
      "metadata": {
        "colab": {
          "base_uri": "https://localhost:8080/",
          "height": 531
        },
        "id": "At5h7k3j6pm_",
        "outputId": "70275f42-0191-4292-f2ca-a4e377c159bf"
      },
      "execution_count": null,
      "outputs": [
        {
          "output_type": "display_data",
          "data": {
            "text/plain": [
              "<Figure size 640x480 with 1 Axes>"
            ],
            "image/png": "[encoded data removed]"
          },
          "metadata": {}
        }
      ]
    },
    {
      "cell_type": "code",
      "source": [
        "# Cargar los datos los datos están en un archivo CSV llamado 'deliveries.csv'\n",
        "df = pd.read_csv('/content/drive/MyDrive/Temas/train_deliveries.csv')\n",
        "\n",
        "# Convertir la columna pickup_datetime a tipo datetime\n",
        "df['pickup_datetime'] = pd.to_datetime(df['pickup_datetime'])\n",
        "\n",
        "# Crear una nueva columna para la fecha (sin la hora)\n",
        "df['date'] = df['pickup_datetime'].dt.date\n",
        "\n",
        "# Contar el número de entregas por día\n",
        "daily_deliveries = df.groupby('date').size().reset_index(name='deliveries')\n",
        "\n",
        "# Convertir la columna 'date' de nuevo a tipo datetime\n",
        "daily_deliveries['date'] = pd.to_datetime(daily_deliveries['date'])\n",
        "\n",
        "print(daily_deliveries.head())\n"
      ],
      "metadata": {
        "colab": {
          "base_uri": "https://localhost:8080/"
        },
        "id": "mAsFE_GY6vg5",
        "outputId": "4eecb3df-0199-42d4-b78c-243b15688b35"
      },
      "execution_count": null,
      "outputs": [
        {
          "output_type": "stream",
          "name": "stdout",
          "text": [
            "        date  deliveries\n",
            "0 2009-01-01          63\n",
            "1 2009-01-02          60\n",
            "2 2009-01-03          84\n",
            "3 2009-01-04          75\n",
            "4 2009-01-05          64\n"
          ]
        }
      ]
    },
    {
      "cell_type": "code",
      "source": [
        "# Crear características temporales\n",
        "daily_deliveries['year'] = daily_deliveries['date'].dt.year\n",
        "daily_deliveries['month'] = daily_deliveries['date'].dt.month\n",
        "daily_deliveries['day'] = daily_deliveries['date'].dt.day\n",
        "daily_deliveries['weekday'] = daily_deliveries['date'].dt.weekday\n",
        "\n",
        "print(daily_deliveries.head())\n"
      ],
      "metadata": {
        "colab": {
          "base_uri": "https://localhost:8080/"
        },
        "id": "fl6Asf6wllxw",
        "outputId": "6d1374b5-3baf-43fa-803a-5ddc66b96d28"
      },
      "execution_count": null,
      "outputs": [
        {
          "output_type": "stream",
          "name": "stdout",
          "text": [
            "        date  deliveries  year  month  day  weekday\n",
            "0 2009-01-01          63  2009      1    1        3\n",
            "1 2009-01-02          60  2009      1    2        4\n",
            "2 2009-01-03          84  2009      1    3        5\n",
            "3 2009-01-04          75  2009      1    4        6\n",
            "4 2009-01-05          64  2009      1    5        0\n"
          ]
        }
      ]
    },
    {
      "cell_type": "code",
      "source": [
        "from sklearn.model_selection import train_test_split\n",
        "\n",
        "# Definir características (features) y el objetivo (target)\n",
        "features = ['year', 'month', 'day', 'weekday']\n",
        "target = 'deliveries'\n",
        "\n",
        "# Dividir los datos en conjuntos de entrenamiento y prueba\n",
        "X = daily_deliveries[features]\n",
        "y = daily_deliveries[target]\n",
        "\n",
        "X_train, X_test, y_train, y_test = train_test_split(X, y, test_size=0.2, random_state=42)\n",
        "\n",
        "print(X_train.shape, X_test.shape)\n"
      ],
      "metadata": {
        "colab": {
          "base_uri": "https://localhost:8080/"
        },
        "id": "goclJqgElrqR",
        "outputId": "48f665b9-ba92-4024-8c8f-a97668160a20"
      },
      "execution_count": null,
      "outputs": [
        {
          "output_type": "stream",
          "name": "stdout",
          "text": [
            "(1885, 4) (472, 4)\n"
          ]
        }
      ]
    },
    {
      "cell_type": "code",
      "source": [
        "#Entrenar el modelo\n",
        "from sklearn.linear_model import LinearRegression\n",
        "from sklearn.metrics import mean_absolute_error, mean_squared_error\n",
        "\n",
        "# Entrenar el modelo\n",
        "model = LinearRegression()\n",
        "model.fit(X_train, y_train)\n",
        "\n",
        "# Evaluar el modelo\n",
        "y_pred = model.predict(X_test)\n",
        "print(f'MAE: {mean_absolute_error(y_test, y_pred)}')\n",
        "print(f'MSE: {mean_squared_error(y_test, y_pred)}')\n",
        "print(f'RMSE: {mean_squared_error(y_test, y_pred, squared=False)}')\n"
      ],
      "metadata": {
        "colab": {
          "base_uri": "https://localhost:8080/"
        },
        "id": "-rnaKsL-lwpg",
        "outputId": "87bbce2e-0023-46bd-933f-9649c2535243"
      },
      "execution_count": null,
      "outputs": [
        {
          "output_type": "stream",
          "name": "stdout",
          "text": [
            "MAE: 11.368994114669805\n",
            "MSE: 213.5634138518974\n",
            "RMSE: 14.613809012434007\n"
          ]
        }
      ]
    },
    {
      "cell_type": "code",
      "source": [
        "#Realizar prediccion\n",
        "\n",
        "import numpy as np\n",
        "from datetime import datetime, timedelta\n",
        "\n",
        "# Crear un DataFrame con las próximas 15 fechas\n",
        "future_dates = pd.date_range(start=daily_deliveries['date'].max() + timedelta(days=1), periods=15)\n",
        "\n",
        "# Crear un DataFrame con las características temporales de las próximas 15 fechas\n",
        "future_data = pd.DataFrame({\n",
        "    'date': future_dates,\n",
        "    'year': future_dates.year,\n",
        "    'month': future_dates.month,\n",
        "    'day': future_dates.day,\n",
        "    'weekday': future_dates.weekday\n",
        "})\n",
        "\n",
        "# Predecir las entregas\n",
        "future_features = future_data[features]\n",
        "future_predictions = model.predict(future_features)\n",
        "\n",
        "# Añadir las predicciones al DataFrame future_data\n",
        "future_data['predicted_deliveries'] = future_predictions\n",
        "\n",
        "\n",
        "print(future_data)\n"
      ],
      "metadata": {
        "colab": {
          "base_uri": "https://localhost:8080/"
        },
        "id": "oaZsi-cOl3aH",
        "outputId": "0958454a-1517-43f3-b158-229412248fb3"
      },
      "execution_count": null,
      "outputs": [
        {
          "output_type": "stream",
          "name": "stdout",
          "text": [
            "         date  year  month  day  weekday  predicted_deliveries\n",
            "0  2015-06-16  2015      6   16        1               80.9204\n",
            "1  2015-06-17  2015      6   17        2               82.0150\n",
            "2  2015-06-18  2015      6   18        3               83.1095\n",
            "3  2015-06-19  2015      6   19        4               84.2040\n",
            "4  2015-06-20  2015      6   20        5               85.2986\n",
            "5  2015-06-21  2015      6   21        6               86.3931\n",
            "6  2015-06-22  2015      6   22        0               79.7695\n",
            "7  2015-06-23  2015      6   23        1               80.8640\n",
            "8  2015-06-24  2015      6   24        2               81.9586\n",
            "9  2015-06-25  2015      6   25        3               83.0531\n",
            "10 2015-06-26  2015      6   26        4               84.1477\n",
            "11 2015-06-27  2015      6   27        5               85.2422\n",
            "12 2015-06-28  2015      6   28        6               86.3367\n",
            "13 2015-06-29  2015      6   29        0               79.7131\n",
            "14 2015-06-30  2015      6   30        1               80.8077\n"
          ]
        }
      ]
    },
    {
      "cell_type": "code",
      "source": [
        "#2do modelo\n",
        "\n",
        "import pandas as pd\n",
        "from sklearn.model_selection import train_test_split\n",
        "from sklearn.linear_model import LogisticRegression\n",
        "from sklearn.metrics import accuracy_score, confusion_matrix, classification_report\n",
        "import numpy as np\n",
        "from datetime import datetime, timedelta\n",
        "\n",
        "# Carga de datos\n",
        "df = pd.read_csv('/content/drive/MyDrive/Temas/train_deliveries.csv')\n",
        "\n",
        "# Convertir pickup_datetime a tipo datetime\n",
        "df['pickup_datetime'] = pd.to_datetime(df['pickup_datetime'])\n",
        "\n",
        "# Filtrar los datos para la región \"Commercial\"\n",
        "df_commercial = df[df['region'] == 'Commercial']\n",
        "\n",
        "# Crear columna de fecha sin hora\n",
        "df_commercial['date'] = df_commercial['pickup_datetime'].dt.date\n",
        "\n",
        "# Contar entregas por día\n",
        "daily_commercial_deliveries = df_commercial.groupby('date').size().reset_index(name='deliveries')\n",
        "daily_commercial_deliveries['date'] = pd.to_datetime(daily_commercial_deliveries['date'])\n",
        "\n",
        "# Calcular el promedio histórico de entregas\n",
        "average_deliveries = daily_commercial_deliveries['deliveries'].mean()\n",
        "print(f'Promedio histórico de entregas: {average_deliveries}')\n",
        "\n",
        "# Crear características temporales y etiquetas\n",
        "daily_commercial_deliveries['year'] = daily_commercial_deliveries['date'].dt.year\n",
        "daily_commercial_deliveries['month'] = daily_commercial_deliveries['date'].dt.month\n",
        "daily_commercial_deliveries['day'] = daily_commercial_deliveries['date'].dt.day\n",
        "daily_commercial_deliveries['weekday'] = daily_commercial_deliveries['date'].dt.weekday\n",
        "daily_commercial_deliveries['above_average'] = (daily_commercial_deliveries['deliveries'] > average_deliveries).astype(int)\n",
        "\n",
        "# Definir características y etiquetas\n",
        "features = ['year', 'month', 'day', 'weekday']\n",
        "target = 'above_average'\n",
        "\n",
        "X = daily_commercial_deliveries[features]\n",
        "y = daily_commercial_deliveries[target]\n",
        "\n",
        "# Dividir en conjuntos de entrenamiento y prueba\n",
        "X_train, X_test, y_train, y_test = train_test_split(X, y, test_size=0.2, random_state=42)\n",
        "\n",
        "# Entrenar el modelo\n",
        "model = LogisticRegression()\n",
        "model.fit(X_train, y_train)\n",
        "\n",
        "# Evaluar el modelo\n",
        "y_pred = model.predict(X_test)\n",
        "print(f'Accuracy: {accuracy_score(y_test, y_pred)}')\n",
        "print(confusion_matrix(y_test, y_pred))\n",
        "print(classification_report(y_test, y_pred))\n",
        "\n",
        "# Predecir si las entregas superarán el promedio histórico para los próximos 15 días\n",
        "future_dates = pd.date_range(start=daily_commercial_deliveries['date'].max() + timedelta(days=1), periods=15)\n",
        "future_data = pd.DataFrame({\n",
        "    'date': future_dates,\n",
        "    'year': future_dates.year,\n",
        "    'month': future_dates.month,\n",
        "    'day': future_dates.day,\n",
        "    'weekday': future_dates.weekday\n",
        "})\n",
        "future_features = future_data[features]\n",
        "future_predictions = model.predict(future_features)\n",
        "future_data['above_average_predicted'] = future_predictions\n",
        "\n",
        "print(future_data)\n"
      ],
      "metadata": {
        "id": "ciKBk7aZl_au",
        "colab": {
          "base_uri": "https://localhost:8080/"
        },
        "outputId": "83e4cda0-bbe6-4e0a-817d-9edc2b7a5aeb"
      },
      "execution_count": null,
      "outputs": [
        {
          "output_type": "stream",
          "name": "stdout",
          "text": [
            "Promedio histórico de entregas: 21.185405176071278\n",
            "Accuracy: 0.5317796610169492\n",
            "[[154 114]\n",
            " [107  97]]\n",
            "              precision    recall  f1-score   support\n",
            "\n",
            "           0       0.59      0.57      0.58       268\n",
            "           1       0.46      0.48      0.47       204\n",
            "\n",
            "    accuracy                           0.53       472\n",
            "   macro avg       0.52      0.53      0.52       472\n",
            "weighted avg       0.53      0.53      0.53       472\n",
            "\n",
            "         date  year  month  day  weekday  above_average_predicted\n",
            "0  2015-06-16  2015      6   16        1                        0\n",
            "1  2015-06-17  2015      6   17        2                        0\n",
            "2  2015-06-18  2015      6   18        3                        0\n",
            "3  2015-06-19  2015      6   19        4                        1\n",
            "4  2015-06-20  2015      6   20        5                        1\n",
            "5  2015-06-21  2015      6   21        6                        1\n",
            "6  2015-06-22  2015      6   22        0                        0\n",
            "7  2015-06-23  2015      6   23        1                        0\n",
            "8  2015-06-24  2015      6   24        2                        0\n",
            "9  2015-06-25  2015      6   25        3                        1\n",
            "10 2015-06-26  2015      6   26        4                        1\n",
            "11 2015-06-27  2015      6   27        5                        1\n",
            "12 2015-06-28  2015      6   28        6                        1\n",
            "13 2015-06-29  2015      6   29        0                        0\n",
            "14 2015-06-30  2015      6   30        1                        0\n"
          ]
        }
      ]
    }
  ],
  "metadata": {
    "colab": {
      "provenance": []
    },
    "kernelspec": {
      "display_name": "Python 3",
      "name": "python3"
    },
    "language_info": {
      "name": "python"
    }
  },
  "nbformat": 4,
  "nbformat_minor": 0
}